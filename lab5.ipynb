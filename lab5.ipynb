{
 "cells": [
  {
   "cell_type": "markdown",
   "metadata": {},
   "source": [
    "# Importar Librerías"
   ]
  },
  {
   "cell_type": "code",
   "execution_count": 6,
   "metadata": {},
   "outputs": [],
   "source": [
    "import numpy as np\n",
    "import matplotlib.pyplot as plt\n",
    "from matplotlib.animation import FuncAnimation, FFMpegWriter"
   ]
  },
  {
   "cell_type": "markdown",
   "metadata": {},
   "source": [
    "## Funciones"
   ]
  },
  {
   "cell_type": "code",
   "execution_count": 7,
   "metadata": {},
   "outputs": [],
   "source": [
    "def get_neighbors(i, j, M, N):\n",
    "    \"\"\"\n",
    "    Obtiene los vecinos de una celda en una cuadrícula 2D.\n",
    "\n",
    "    Esta función devuelve las coordenadas de los vecinos de una celda (i, j) en una cuadrícula de tamaño M x N.\n",
    "    Se consideran los 8 vecinos adyacentes (vecindad de Moore), excluyendo la celda misma.\n",
    "\n",
    "    Parámetros:\n",
    "    -----------\n",
    "    i : int\n",
    "        Índice de fila de la celda.\n",
    "    j : int\n",
    "        Índice de columna de la celda.\n",
    "    M : int\n",
    "        Número total de filas en la cuadrícula.\n",
    "    N : int\n",
    "        Número total de columnas en la cuadrícula.\n",
    "\n",
    "    Retorna:\n",
    "    --------\n",
    "    neighbors : list of tuple\n",
    "        Lista de tuplas (ni, nj) que representan las coordenadas de los vecinos de la celda (i, j).\n",
    "        Solo se incluyen los vecinos que están dentro de los límites de la cuadrícula.\n",
    "    \"\"\"\n",
    "    neighbors = []\n",
    "    for di in [-1, 0, 1]:\n",
    "        for dj in [-1, 0, 1]:\n",
    "            if di == 0 and dj == 0:\n",
    "                continue\n",
    "            ni, nj = i + di, j + dj\n",
    "            if 0 <= ni < M and 0 <= nj < N:\n",
    "                neighbors.append((ni, nj))\n",
    "    return neighbors"
   ]
  },
  {
   "cell_type": "code",
   "execution_count": 8,
   "metadata": {},
   "outputs": [],
   "source": [
    "def simulate_diffusion(M, N, T, u0, K):\n",
    "    \"\"\"\n",
    "    Simula el proceso de difusión en una cuadrícula 2D.\n",
    "\n",
    "    Esta función simula la difusión de una sustancia en una cuadrícula de tamaño M x N durante T pasos de tiempo.\n",
    "    La difusión se realiza utilizando una vecindad de 8 vecinos (vecindad de Moore) y un parámetro de difusión K.\n",
    "\n",
    "    Parámetros:\n",
    "    -----------\n",
    "    M : int\n",
    "        Número de filas en la cuadrícula.\n",
    "    N : int\n",
    "        Número de columnas en la cuadrícula.\n",
    "    T : int\n",
    "        Número de pasos de tiempo para la simulación.\n",
    "    u0 : array-like of float\n",
    "        Distribución inicial de la sustancia en la cuadrícula. Debe ser un array de tamaño M x N con entradas no-negativas que sumen 1.\n",
    "    K : float\n",
    "        Parámetro de velocidad de difusión, 0 ≤ K ≤ 1.\n",
    "\n",
    "    Retorna:\n",
    "    --------\n",
    "    history : list of numpy.ndarray\n",
    "        Lista de arrays que representan el estado de la cuadrícula en cada paso de tiempo. Cada array es de tamaño M x N.\n",
    "    \"\"\"\n",
    "    u = np.array(u0)\n",
    "    history = [u.copy()]\n",
    "    \n",
    "    for t in range(T):\n",
    "        u_new = u.copy()\n",
    "        for i in range(M):\n",
    "            for j in range(N):\n",
    "                neighbors = get_neighbors(i, j, M, N)\n",
    "                diffusion_sum = sum(u[ni, nj] for ni, nj in neighbors)\n",
    "                u_new[i, j] = (1 - K) * u[i, j] + (K / 8) * diffusion_sum\n",
    "        u = u_new\n",
    "        history.append(u.copy())\n",
    "    \n",
    "    return history"
   ]
  },
  {
   "cell_type": "code",
   "execution_count": 9,
   "metadata": {},
   "outputs": [],
   "source": [
    "def plot_diffusion(history, save_path=None):\n",
    "    \"\"\"\n",
    "    Genera y muestra una animación de la difusión en una cuadrícula 2D.\n",
    "\n",
    "    Esta función crea una animación de la evolución de la difusión en una cuadrícula 2D a lo largo del tiempo.\n",
    "    La animación se puede mostrar en pantalla o guardar en un archivo de video.\n",
    "\n",
    "    Parámetros:\n",
    "    -----------\n",
    "    history : list of numpy.ndarray\n",
    "        Lista de arrays que representan el estado de la cuadrícula en cada paso de tiempo. Cada array es de tamaño M x N.\n",
    "    save_path : str, opcional\n",
    "        Ruta del archivo donde se guardará la animación en formato de video. Si no se proporciona, la animación se mostrará en pantalla.\n",
    "\n",
    "    Retorna:\n",
    "    --------\n",
    "    None\n",
    "    \"\"\"\n",
    "    fig, ax = plt.subplots()\n",
    "    cax = ax.matshow(history[0], cmap='viridis')\n",
    "    fig.colorbar(cax)\n",
    "\n",
    "    def update(frame):\n",
    "        cax.set_array(history[frame])\n",
    "        return cax,\n",
    "\n",
    "    ani = FuncAnimation(fig, update, frames=len(history), blit=True)\n",
    "    \n",
    "    if save_path:\n",
    "        writer = FFMpegWriter(fps=10, metadata=dict(artist='Me'), bitrate=1800)\n",
    "        ani.save(save_path, writer=writer)\n",
    "    else:\n",
    "        plt.show()"
   ]
  },
  {
   "cell_type": "code",
   "execution_count": 10,
   "metadata": {},
   "outputs": [
    {
     "data": {
      "image/png": "[encoded data removed]",
      "text/plain": [
       "<Figure size 640x480 with 2 Axes>"
      ]
     },
     "metadata": {},
     "output_type": "display_data"
    }
   ],
   "source": [
    "# Example usage\n",
    "M, N = 10, 10\n",
    "T = 50\n",
    "u0 = np.random.rand(M, N)\n",
    "u0 /= u0.sum()  # Normalize to sum to 1\n",
    "K = 0.1\n",
    "\n",
    "history = simulate_diffusion(M, N, T, u0, K)\n",
    "plot_diffusion(history, save_path='diffusion_simulation.mp4')"
   ]
  }
 ],
 "metadata": {
  "kernelspec": {
   "display_name": "Python 3",
   "language": "python",
   "name": "python3"
  },
  "language_info": {
   "codemirror_mode": {
    "name": "ipython",
    "version": 3
   },
   "file_extension": ".py",
   "mimetype": "text/x-python",
   "name": "python",
   "nbconvert_exporter": "python",
   "pygments_lexer": "ipython3",
   "version": "3.11.9"
  }
 },
 "nbformat": 4,
 "nbformat_minor": 2
}
